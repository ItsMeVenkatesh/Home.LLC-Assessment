{
  "nbformat": 4,
  "nbformat_minor": 0,
  "metadata": {
    "colab": {
      "provenance": []
    },
    "kernelspec": {
      "name": "python3",
      "display_name": "Python 3"
    },
    "language_info": {
      "name": "python"
    }
  },
  "cells": [
    {
      "cell_type": "markdown",
      "source": [
        "#**Home.LLC Prelims Assessment**"
      ],
      "metadata": {
        "id": "YIP12J6eTgY7"
      }
    },
    {
      "cell_type": "code",
      "execution_count": 2,
      "metadata": {
        "id": "tWoF2eUz2aCW"
      },
      "outputs": [],
      "source": [
        "import numpy as np\n",
        "import pandas as pd\n",
        "import matplotlib.pyplot as plt\n",
        "import seaborn as sns"
      ]
    },
    {
      "cell_type": "code",
      "source": [
        "df1=pd.read_csv(\"/content/BOGZ1FL073165103Q.csv\")\n",
        "print(df1.head())\n",
        "df1.shape"
      ],
      "metadata": {
        "colab": {
          "base_uri": "https://localhost:8080/"
        },
        "id": "f8Ggx8r4Txva",
        "outputId": "c4e739df-1c18-49dd-fe8a-e27eaa619da4"
      },
      "execution_count": 3,
      "outputs": [
        {
          "output_type": "stream",
          "name": "stdout",
          "text": [
            "         DATE  BOGZ1FL073165103Q\n",
            "0  1971-01-01             7330.0\n",
            "1  1971-04-01             7429.0\n",
            "2  1971-07-01             7668.0\n",
            "3  1971-10-01             7544.0\n",
            "4  1972-01-01             7349.0\n"
          ]
        },
        {
          "output_type": "execute_result",
          "data": {
            "text/plain": [
              "(207, 2)"
            ]
          },
          "metadata": {},
          "execution_count": 3
        }
      ]
    },
    {
      "cell_type": "code",
      "source": [
        "df2=pd.read_csv(\"/content/UNRATE.csv\")\n",
        "print(df2.head())\n",
        "df2.shape"
      ],
      "metadata": {
        "colab": {
          "base_uri": "https://localhost:8080/"
        },
        "id": "yvHs17agTxs3",
        "outputId": "ba24350f-43aa-49b9-a3a0-4cc4d33e10a4"
      },
      "execution_count": 4,
      "outputs": [
        {
          "output_type": "stream",
          "name": "stdout",
          "text": [
            "         DATE  UNRATE\n",
            "0  1948-01-01     3.4\n",
            "1  1948-02-01     3.8\n",
            "2  1948-03-01     4.0\n",
            "3  1948-04-01     3.9\n",
            "4  1948-05-01     3.5\n"
          ]
        },
        {
          "output_type": "execute_result",
          "data": {
            "text/plain": [
              "(899, 2)"
            ]
          },
          "metadata": {},
          "execution_count": 4
        }
      ]
    },
    {
      "cell_type": "code",
      "source": [
        "df3=pd.read_csv(\"/content/MSPUS.csv\")\n",
        "print(df3.head())\n",
        "df3.shape"
      ],
      "metadata": {
        "colab": {
          "base_uri": "https://localhost:8080/"
        },
        "id": "Q3yI6fU8Txqk",
        "outputId": "fa8aca87-eada-409a-a39b-8e23c5ef5e9a"
      },
      "execution_count": 5,
      "outputs": [
        {
          "output_type": "stream",
          "name": "stdout",
          "text": [
            "         DATE    MSPUS\n",
            "0  1963-01-01  17800.0\n",
            "1  1963-04-01  18000.0\n",
            "2  1963-07-01  17900.0\n",
            "3  1963-10-01  18500.0\n",
            "4  1964-01-01  18500.0\n"
          ]
        },
        {
          "output_type": "execute_result",
          "data": {
            "text/plain": [
              "(239, 2)"
            ]
          },
          "metadata": {},
          "execution_count": 5
        }
      ]
    },
    {
      "cell_type": "code",
      "source": [
        "df4=pd.read_csv(\"/content/MSACSR.csv\")\n",
        "print(df4.head())\n",
        "df4.shape"
      ],
      "metadata": {
        "colab": {
          "base_uri": "https://localhost:8080/"
        },
        "id": "fXagjIM5Txn-",
        "outputId": "7639ddeb-4b63-4616-d4b0-86a789dd20ca"
      },
      "execution_count": 6,
      "outputs": [
        {
          "output_type": "stream",
          "name": "stdout",
          "text": [
            "         DATE  MSACSR\n",
            "0  1963-01-01     4.7\n",
            "1  1963-02-01     6.6\n",
            "2  1963-03-01     6.4\n",
            "3  1963-04-01     5.3\n",
            "4  1963-05-01     5.1\n"
          ]
        },
        {
          "output_type": "execute_result",
          "data": {
            "text/plain": [
              "(718, 2)"
            ]
          },
          "metadata": {},
          "execution_count": 6
        }
      ]
    },
    {
      "cell_type": "code",
      "source": [
        "df5=pd.read_csv(\"/content/HSN1F.csv\")\n",
        "print(df5.head())\n",
        "df5.shape"
      ],
      "metadata": {
        "colab": {
          "base_uri": "https://localhost:8080/"
        },
        "id": "cAjM55O4Txlv",
        "outputId": "2aae1c9d-4240-43b9-bd7e-c99d41fda66e"
      },
      "execution_count": 7,
      "outputs": [
        {
          "output_type": "stream",
          "name": "stdout",
          "text": [
            "         DATE  HSN1F\n",
            "0  1963-01-01  591.0\n",
            "1  1963-02-01  464.0\n",
            "2  1963-03-01  461.0\n",
            "3  1963-04-01  605.0\n",
            "4  1963-05-01  586.0\n"
          ]
        },
        {
          "output_type": "execute_result",
          "data": {
            "text/plain": [
              "(718, 2)"
            ]
          },
          "metadata": {},
          "execution_count": 7
        }
      ]
    },
    {
      "cell_type": "code",
      "source": [
        "df6=pd.read_csv(\"/content/GDP.csv\")\n",
        "print(df6.head())\n",
        "df6.shape"
      ],
      "metadata": {
        "colab": {
          "base_uri": "https://localhost:8080/"
        },
        "id": "RqORiREqTxjN",
        "outputId": "8a3853b9-03b1-4094-9fb9-57836781ef21"
      },
      "execution_count": 8,
      "outputs": [
        {
          "output_type": "stream",
          "name": "stdout",
          "text": [
            "         DATE      GDP\n",
            "0  1947-01-01  243.164\n",
            "1  1947-04-01  245.968\n",
            "2  1947-07-01  249.585\n",
            "3  1947-10-01  259.745\n",
            "4  1948-01-01  265.742\n"
          ]
        },
        {
          "output_type": "execute_result",
          "data": {
            "text/plain": [
              "(303, 2)"
            ]
          },
          "metadata": {},
          "execution_count": 8
        }
      ]
    },
    {
      "cell_type": "code",
      "source": [
        "DF1 = pd.merge(df1,df2, how=\"outer\", on=[\"DATE\"]) # merging csv's\n",
        "DF1"
      ],
      "metadata": {
        "colab": {
          "base_uri": "https://localhost:8080/",
          "height": 424
        },
        "id": "5kk_I5PrTxgm",
        "outputId": "a799d7d5-913f-4b41-a852-b97bbaf62a8b"
      },
      "execution_count": 9,
      "outputs": [
        {
          "output_type": "execute_result",
          "data": {
            "text/plain": [
              "           DATE  BOGZ1FL073165103Q  UNRATE\n",
              "0    1971-01-01             7330.0     5.9\n",
              "1    1971-04-01             7429.0     5.9\n",
              "2    1971-07-01             7668.0     6.0\n",
              "3    1971-10-01             7544.0     5.8\n",
              "4    1972-01-01             7349.0     5.8\n",
              "..          ...                ...     ...\n",
              "894  2022-06-01                NaN     3.6\n",
              "895  2022-08-01                NaN     3.7\n",
              "896  2022-09-01                NaN     3.5\n",
              "897  2022-10-01                NaN     3.7\n",
              "898  2022-11-01                NaN     3.7\n",
              "\n",
              "[899 rows x 3 columns]"
            ],
            "text/html": [
              "\n",
              "  <div id=\"df-3d83866c-7f52-42ff-b4de-a37383c3674b\">\n",
              "    <div class=\"colab-df-container\">\n",
              "      <div>\n",
              "<style scoped>\n",
              "    .dataframe tbody tr th:only-of-type {\n",
              "        vertical-align: middle;\n",
              "    }\n",
              "\n",
              "    .dataframe tbody tr th {\n",
              "        vertical-align: top;\n",
              "    }\n",
              "\n",
              "    .dataframe thead th {\n",
              "        text-align: right;\n",
              "    }\n",
              "</style>\n",
              "<table border=\"1\" class=\"dataframe\">\n",
              "  <thead>\n",
              "    <tr style=\"text-align: right;\">\n",
              "      <th></th>\n",
              "      <th>DATE</th>\n",
              "      <th>BOGZ1FL073165103Q</th>\n",
              "      <th>UNRATE</th>\n",
              "    </tr>\n",
              "  </thead>\n",
              "  <tbody>\n",
              "    <tr>\n",
              "      <th>0</th>\n",
              "      <td>1971-01-01</td>\n",
              "      <td>7330.0</td>\n",
              "      <td>5.9</td>\n",
              "    </tr>\n",
              "    <tr>\n",
              "      <th>1</th>\n",
              "      <td>1971-04-01</td>\n",
              "      <td>7429.0</td>\n",
              "      <td>5.9</td>\n",
              "    </tr>\n",
              "    <tr>\n",
              "      <th>2</th>\n",
              "      <td>1971-07-01</td>\n",
              "      <td>7668.0</td>\n",
              "      <td>6.0</td>\n",
              "    </tr>\n",
              "    <tr>\n",
              "      <th>3</th>\n",
              "      <td>1971-10-01</td>\n",
              "      <td>7544.0</td>\n",
              "      <td>5.8</td>\n",
              "    </tr>\n",
              "    <tr>\n",
              "      <th>4</th>\n",
              "      <td>1972-01-01</td>\n",
              "      <td>7349.0</td>\n",
              "      <td>5.8</td>\n",
              "    </tr>\n",
              "    <tr>\n",
              "      <th>...</th>\n",
              "      <td>...</td>\n",
              "      <td>...</td>\n",
              "      <td>...</td>\n",
              "    </tr>\n",
              "    <tr>\n",
              "      <th>894</th>\n",
              "      <td>2022-06-01</td>\n",
              "      <td>NaN</td>\n",
              "      <td>3.6</td>\n",
              "    </tr>\n",
              "    <tr>\n",
              "      <th>895</th>\n",
              "      <td>2022-08-01</td>\n",
              "      <td>NaN</td>\n",
              "      <td>3.7</td>\n",
              "    </tr>\n",
              "    <tr>\n",
              "      <th>896</th>\n",
              "      <td>2022-09-01</td>\n",
              "      <td>NaN</td>\n",
              "      <td>3.5</td>\n",
              "    </tr>\n",
              "    <tr>\n",
              "      <th>897</th>\n",
              "      <td>2022-10-01</td>\n",
              "      <td>NaN</td>\n",
              "      <td>3.7</td>\n",
              "    </tr>\n",
              "    <tr>\n",
              "      <th>898</th>\n",
              "      <td>2022-11-01</td>\n",
              "      <td>NaN</td>\n",
              "      <td>3.7</td>\n",
              "    </tr>\n",
              "  </tbody>\n",
              "</table>\n",
              "<p>899 rows × 3 columns</p>\n",
              "</div>\n",
              "      <button class=\"colab-df-convert\" onclick=\"convertToInteractive('df-3d83866c-7f52-42ff-b4de-a37383c3674b')\"\n",
              "              title=\"Convert this dataframe to an interactive table.\"\n",
              "              style=\"display:none;\">\n",
              "        \n",
              "  <svg xmlns=\"http://www.w3.org/2000/svg\" height=\"24px\"viewBox=\"0 0 24 24\"\n",
              "       width=\"24px\">\n",
              "    <path d=\"M0 0h24v24H0V0z\" fill=\"none\"/>\n",
              "    <path d=\"M18.56 5.44l.94 2.06.94-2.06 2.06-.94-2.06-.94-.94-2.06-.94 2.06-2.06.94zm-11 1L8.5 8.5l.94-2.06 2.06-.94-2.06-.94L8.5 2.5l-.94 2.06-2.06.94zm10 10l.94 2.06.94-2.06 2.06-.94-2.06-.94-.94-2.06-.94 2.06-2.06.94z\"/><path d=\"M17.41 7.96l-1.37-1.37c-.4-.4-.92-.59-1.43-.59-.52 0-1.04.2-1.43.59L10.3 9.45l-7.72 7.72c-.78.78-.78 2.05 0 2.83L4 21.41c.39.39.9.59 1.41.59.51 0 1.02-.2 1.41-.59l7.78-7.78 2.81-2.81c.8-.78.8-2.07 0-2.86zM5.41 20L4 18.59l7.72-7.72 1.47 1.35L5.41 20z\"/>\n",
              "  </svg>\n",
              "      </button>\n",
              "      \n",
              "  <style>\n",
              "    .colab-df-container {\n",
              "      display:flex;\n",
              "      flex-wrap:wrap;\n",
              "      gap: 12px;\n",
              "    }\n",
              "\n",
              "    .colab-df-convert {\n",
              "      background-color: #E8F0FE;\n",
              "      border: none;\n",
              "      border-radius: 50%;\n",
              "      cursor: pointer;\n",
              "      display: none;\n",
              "      fill: #1967D2;\n",
              "      height: 32px;\n",
              "      padding: 0 0 0 0;\n",
              "      width: 32px;\n",
              "    }\n",
              "\n",
              "    .colab-df-convert:hover {\n",
              "      background-color: #E2EBFA;\n",
              "      box-shadow: 0px 1px 2px rgba(60, 64, 67, 0.3), 0px 1px 3px 1px rgba(60, 64, 67, 0.15);\n",
              "      fill: #174EA6;\n",
              "    }\n",
              "\n",
              "    [theme=dark] .colab-df-convert {\n",
              "      background-color: #3B4455;\n",
              "      fill: #D2E3FC;\n",
              "    }\n",
              "\n",
              "    [theme=dark] .colab-df-convert:hover {\n",
              "      background-color: #434B5C;\n",
              "      box-shadow: 0px 1px 3px 1px rgba(0, 0, 0, 0.15);\n",
              "      filter: drop-shadow(0px 1px 2px rgba(0, 0, 0, 0.3));\n",
              "      fill: #FFFFFF;\n",
              "    }\n",
              "  </style>\n",
              "\n",
              "      <script>\n",
              "        const buttonEl =\n",
              "          document.querySelector('#df-3d83866c-7f52-42ff-b4de-a37383c3674b button.colab-df-convert');\n",
              "        buttonEl.style.display =\n",
              "          google.colab.kernel.accessAllowed ? 'block' : 'none';\n",
              "\n",
              "        async function convertToInteractive(key) {\n",
              "          const element = document.querySelector('#df-3d83866c-7f52-42ff-b4de-a37383c3674b');\n",
              "          const dataTable =\n",
              "            await google.colab.kernel.invokeFunction('convertToInteractive',\n",
              "                                                     [key], {});\n",
              "          if (!dataTable) return;\n",
              "\n",
              "          const docLinkHtml = 'Like what you see? Visit the ' +\n",
              "            '<a target=\"_blank\" href=https://colab.research.google.com/notebooks/data_table.ipynb>data table notebook</a>'\n",
              "            + ' to learn more about interactive tables.';\n",
              "          element.innerHTML = '';\n",
              "          dataTable['output_type'] = 'display_data';\n",
              "          await google.colab.output.renderOutput(dataTable, element);\n",
              "          const docLink = document.createElement('div');\n",
              "          docLink.innerHTML = docLinkHtml;\n",
              "          element.appendChild(docLink);\n",
              "        }\n",
              "      </script>\n",
              "    </div>\n",
              "  </div>\n",
              "  "
            ]
          },
          "metadata": {},
          "execution_count": 9
        }
      ]
    },
    {
      "cell_type": "code",
      "source": [
        "DF2=pd.merge(df3,df4, how=\"outer\", on=[\"DATE\"])\n",
        "DF3=pd.merge(df5,df6, how=\"outer\", on=[\"DATE\"])"
      ],
      "metadata": {
        "id": "9SDnrNM3Txb2"
      },
      "execution_count": 13,
      "outputs": []
    },
    {
      "cell_type": "code",
      "source": [
        "DF12=pd.merge(DF1,DF2, how=\"outer\", on=[\"DATE\"]) "
      ],
      "metadata": {
        "id": "9AEOor0CTxZc"
      },
      "execution_count": 14,
      "outputs": []
    },
    {
      "cell_type": "code",
      "source": [
        "DF123=pd.merge(DF12,DF3, how=\"outer\", on=[\"DATE\"]) \n",
        "DF123"
      ],
      "metadata": {
        "colab": {
          "base_uri": "https://localhost:8080/",
          "height": 424
        },
        "id": "TtbiuWAdTxWx",
        "outputId": "8d47da9d-8d9c-4918-bfa2-a174b0ace6d9"
      },
      "execution_count": 15,
      "outputs": [
        {
          "output_type": "execute_result",
          "data": {
            "text/plain": [
              "           DATE  BOGZ1FL073165103Q  UNRATE    MSPUS  MSACSR  HSN1F       GDP\n",
              "0    1971-01-01             7330.0     5.9  24300.0     4.3  618.0  1135.156\n",
              "1    1971-04-01             7429.0     5.9  25800.0     4.2  662.0  1156.271\n",
              "2    1971-07-01             7668.0     6.0  25300.0     4.1  706.0  1177.675\n",
              "3    1971-10-01             7544.0     5.8  25500.0     5.0  647.0  1190.297\n",
              "4    1972-01-01             7349.0     5.8  26200.0     5.2  698.0  1230.609\n",
              "..          ...                ...     ...      ...     ...    ...       ...\n",
              "898  2022-11-01                NaN     3.7      NaN     NaN    NaN       NaN\n",
              "899  1947-01-01                NaN     NaN      NaN     NaN    NaN   243.164\n",
              "900  1947-04-01                NaN     NaN      NaN     NaN    NaN   245.968\n",
              "901  1947-07-01                NaN     NaN      NaN     NaN    NaN   249.585\n",
              "902  1947-10-01                NaN     NaN      NaN     NaN    NaN   259.745\n",
              "\n",
              "[903 rows x 7 columns]"
            ],
            "text/html": [
              "\n",
              "  <div id=\"df-442da996-769c-4ff7-bb7f-1feba785b779\">\n",
              "    <div class=\"colab-df-container\">\n",
              "      <div>\n",
              "<style scoped>\n",
              "    .dataframe tbody tr th:only-of-type {\n",
              "        vertical-align: middle;\n",
              "    }\n",
              "\n",
              "    .dataframe tbody tr th {\n",
              "        vertical-align: top;\n",
              "    }\n",
              "\n",
              "    .dataframe thead th {\n",
              "        text-align: right;\n",
              "    }\n",
              "</style>\n",
              "<table border=\"1\" class=\"dataframe\">\n",
              "  <thead>\n",
              "    <tr style=\"text-align: right;\">\n",
              "      <th></th>\n",
              "      <th>DATE</th>\n",
              "      <th>BOGZ1FL073165103Q</th>\n",
              "      <th>UNRATE</th>\n",
              "      <th>MSPUS</th>\n",
              "      <th>MSACSR</th>\n",
              "      <th>HSN1F</th>\n",
              "      <th>GDP</th>\n",
              "    </tr>\n",
              "  </thead>\n",
              "  <tbody>\n",
              "    <tr>\n",
              "      <th>0</th>\n",
              "      <td>1971-01-01</td>\n",
              "      <td>7330.0</td>\n",
              "      <td>5.9</td>\n",
              "      <td>24300.0</td>\n",
              "      <td>4.3</td>\n",
              "      <td>618.0</td>\n",
              "      <td>1135.156</td>\n",
              "    </tr>\n",
              "    <tr>\n",
              "      <th>1</th>\n",
              "      <td>1971-04-01</td>\n",
              "      <td>7429.0</td>\n",
              "      <td>5.9</td>\n",
              "      <td>25800.0</td>\n",
              "      <td>4.2</td>\n",
              "      <td>662.0</td>\n",
              "      <td>1156.271</td>\n",
              "    </tr>\n",
              "    <tr>\n",
              "      <th>2</th>\n",
              "      <td>1971-07-01</td>\n",
              "      <td>7668.0</td>\n",
              "      <td>6.0</td>\n",
              "      <td>25300.0</td>\n",
              "      <td>4.1</td>\n",
              "      <td>706.0</td>\n",
              "      <td>1177.675</td>\n",
              "    </tr>\n",
              "    <tr>\n",
              "      <th>3</th>\n",
              "      <td>1971-10-01</td>\n",
              "      <td>7544.0</td>\n",
              "      <td>5.8</td>\n",
              "      <td>25500.0</td>\n",
              "      <td>5.0</td>\n",
              "      <td>647.0</td>\n",
              "      <td>1190.297</td>\n",
              "    </tr>\n",
              "    <tr>\n",
              "      <th>4</th>\n",
              "      <td>1972-01-01</td>\n",
              "      <td>7349.0</td>\n",
              "      <td>5.8</td>\n",
              "      <td>26200.0</td>\n",
              "      <td>5.2</td>\n",
              "      <td>698.0</td>\n",
              "      <td>1230.609</td>\n",
              "    </tr>\n",
              "    <tr>\n",
              "      <th>...</th>\n",
              "      <td>...</td>\n",
              "      <td>...</td>\n",
              "      <td>...</td>\n",
              "      <td>...</td>\n",
              "      <td>...</td>\n",
              "      <td>...</td>\n",
              "      <td>...</td>\n",
              "    </tr>\n",
              "    <tr>\n",
              "      <th>898</th>\n",
              "      <td>2022-11-01</td>\n",
              "      <td>NaN</td>\n",
              "      <td>3.7</td>\n",
              "      <td>NaN</td>\n",
              "      <td>NaN</td>\n",
              "      <td>NaN</td>\n",
              "      <td>NaN</td>\n",
              "    </tr>\n",
              "    <tr>\n",
              "      <th>899</th>\n",
              "      <td>1947-01-01</td>\n",
              "      <td>NaN</td>\n",
              "      <td>NaN</td>\n",
              "      <td>NaN</td>\n",
              "      <td>NaN</td>\n",
              "      <td>NaN</td>\n",
              "      <td>243.164</td>\n",
              "    </tr>\n",
              "    <tr>\n",
              "      <th>900</th>\n",
              "      <td>1947-04-01</td>\n",
              "      <td>NaN</td>\n",
              "      <td>NaN</td>\n",
              "      <td>NaN</td>\n",
              "      <td>NaN</td>\n",
              "      <td>NaN</td>\n",
              "      <td>245.968</td>\n",
              "    </tr>\n",
              "    <tr>\n",
              "      <th>901</th>\n",
              "      <td>1947-07-01</td>\n",
              "      <td>NaN</td>\n",
              "      <td>NaN</td>\n",
              "      <td>NaN</td>\n",
              "      <td>NaN</td>\n",
              "      <td>NaN</td>\n",
              "      <td>249.585</td>\n",
              "    </tr>\n",
              "    <tr>\n",
              "      <th>902</th>\n",
              "      <td>1947-10-01</td>\n",
              "      <td>NaN</td>\n",
              "      <td>NaN</td>\n",
              "      <td>NaN</td>\n",
              "      <td>NaN</td>\n",
              "      <td>NaN</td>\n",
              "      <td>259.745</td>\n",
              "    </tr>\n",
              "  </tbody>\n",
              "</table>\n",
              "<p>903 rows × 7 columns</p>\n",
              "</div>\n",
              "      <button class=\"colab-df-convert\" onclick=\"convertToInteractive('df-442da996-769c-4ff7-bb7f-1feba785b779')\"\n",
              "              title=\"Convert this dataframe to an interactive table.\"\n",
              "              style=\"display:none;\">\n",
              "        \n",
              "  <svg xmlns=\"http://www.w3.org/2000/svg\" height=\"24px\"viewBox=\"0 0 24 24\"\n",
              "       width=\"24px\">\n",
              "    <path d=\"M0 0h24v24H0V0z\" fill=\"none\"/>\n",
              "    <path d=\"M18.56 5.44l.94 2.06.94-2.06 2.06-.94-2.06-.94-.94-2.06-.94 2.06-2.06.94zm-11 1L8.5 8.5l.94-2.06 2.06-.94-2.06-.94L8.5 2.5l-.94 2.06-2.06.94zm10 10l.94 2.06.94-2.06 2.06-.94-2.06-.94-.94-2.06-.94 2.06-2.06.94z\"/><path d=\"M17.41 7.96l-1.37-1.37c-.4-.4-.92-.59-1.43-.59-.52 0-1.04.2-1.43.59L10.3 9.45l-7.72 7.72c-.78.78-.78 2.05 0 2.83L4 21.41c.39.39.9.59 1.41.59.51 0 1.02-.2 1.41-.59l7.78-7.78 2.81-2.81c.8-.78.8-2.07 0-2.86zM5.41 20L4 18.59l7.72-7.72 1.47 1.35L5.41 20z\"/>\n",
              "  </svg>\n",
              "      </button>\n",
              "      \n",
              "  <style>\n",
              "    .colab-df-container {\n",
              "      display:flex;\n",
              "      flex-wrap:wrap;\n",
              "      gap: 12px;\n",
              "    }\n",
              "\n",
              "    .colab-df-convert {\n",
              "      background-color: #E8F0FE;\n",
              "      border: none;\n",
              "      border-radius: 50%;\n",
              "      cursor: pointer;\n",
              "      display: none;\n",
              "      fill: #1967D2;\n",
              "      height: 32px;\n",
              "      padding: 0 0 0 0;\n",
              "      width: 32px;\n",
              "    }\n",
              "\n",
              "    .colab-df-convert:hover {\n",
              "      background-color: #E2EBFA;\n",
              "      box-shadow: 0px 1px 2px rgba(60, 64, 67, 0.3), 0px 1px 3px 1px rgba(60, 64, 67, 0.15);\n",
              "      fill: #174EA6;\n",
              "    }\n",
              "\n",
              "    [theme=dark] .colab-df-convert {\n",
              "      background-color: #3B4455;\n",
              "      fill: #D2E3FC;\n",
              "    }\n",
              "\n",
              "    [theme=dark] .colab-df-convert:hover {\n",
              "      background-color: #434B5C;\n",
              "      box-shadow: 0px 1px 3px 1px rgba(0, 0, 0, 0.15);\n",
              "      filter: drop-shadow(0px 1px 2px rgba(0, 0, 0, 0.3));\n",
              "      fill: #FFFFFF;\n",
              "    }\n",
              "  </style>\n",
              "\n",
              "      <script>\n",
              "        const buttonEl =\n",
              "          document.querySelector('#df-442da996-769c-4ff7-bb7f-1feba785b779 button.colab-df-convert');\n",
              "        buttonEl.style.display =\n",
              "          google.colab.kernel.accessAllowed ? 'block' : 'none';\n",
              "\n",
              "        async function convertToInteractive(key) {\n",
              "          const element = document.querySelector('#df-442da996-769c-4ff7-bb7f-1feba785b779');\n",
              "          const dataTable =\n",
              "            await google.colab.kernel.invokeFunction('convertToInteractive',\n",
              "                                                     [key], {});\n",
              "          if (!dataTable) return;\n",
              "\n",
              "          const docLinkHtml = 'Like what you see? Visit the ' +\n",
              "            '<a target=\"_blank\" href=https://colab.research.google.com/notebooks/data_table.ipynb>data table notebook</a>'\n",
              "            + ' to learn more about interactive tables.';\n",
              "          element.innerHTML = '';\n",
              "          dataTable['output_type'] = 'display_data';\n",
              "          await google.colab.output.renderOutput(dataTable, element);\n",
              "          const docLink = document.createElement('div');\n",
              "          docLink.innerHTML = docLinkHtml;\n",
              "          element.appendChild(docLink);\n",
              "        }\n",
              "      </script>\n",
              "    </div>\n",
              "  </div>\n",
              "  "
            ]
          },
          "metadata": {},
          "execution_count": 15
        }
      ]
    },
    {
      "cell_type": "code",
      "source": [
        "DF123.columns"
      ],
      "metadata": {
        "colab": {
          "base_uri": "https://localhost:8080/"
        },
        "id": "MeUqlsuTVJAy",
        "outputId": "5098bbf3-8b37-45e3-c026-9b9c443a078d"
      },
      "execution_count": 16,
      "outputs": [
        {
          "output_type": "execute_result",
          "data": {
            "text/plain": [
              "Index(['DATE', 'BOGZ1FL073165103Q', 'UNRATE', 'MSPUS', 'MSACSR', 'HSN1F',\n",
              "       'GDP'],\n",
              "      dtype='object')"
            ]
          },
          "metadata": {},
          "execution_count": 16
        }
      ]
    },
    {
      "cell_type": "code",
      "source": [
        "DF123.rename(columns={'BOGZ1FL073165103Q':'Interestrate_priceindeces','UNRATE':'Unemployment_rate','MSPUS':'Median_salesprice','MSACSR':'Monthly_supply_of_newhouses','HSN1F':'New_onefamily_houses_sold','GDP':'Gross_domestic_product'}, inplace=True)\n",
        "DF123"
      ],
      "metadata": {
        "colab": {
          "base_uri": "https://localhost:8080/",
          "height": 661
        },
        "id": "xz26CipKVI-G",
        "outputId": "78630b81-1f72-4ec1-d3cf-eeabb74f47d5"
      },
      "execution_count": 17,
      "outputs": [
        {
          "output_type": "execute_result",
          "data": {
            "text/plain": [
              "           DATE  Interestrate_priceindeces  Unemployment_rate  \\\n",
              "0    1971-01-01                     7330.0                5.9   \n",
              "1    1971-04-01                     7429.0                5.9   \n",
              "2    1971-07-01                     7668.0                6.0   \n",
              "3    1971-10-01                     7544.0                5.8   \n",
              "4    1972-01-01                     7349.0                5.8   \n",
              "..          ...                        ...                ...   \n",
              "898  2022-11-01                        NaN                3.7   \n",
              "899  1947-01-01                        NaN                NaN   \n",
              "900  1947-04-01                        NaN                NaN   \n",
              "901  1947-07-01                        NaN                NaN   \n",
              "902  1947-10-01                        NaN                NaN   \n",
              "\n",
              "     Median_salesprice  Monthly_supply_of_newhouses  \\\n",
              "0              24300.0                          4.3   \n",
              "1              25800.0                          4.2   \n",
              "2              25300.0                          4.1   \n",
              "3              25500.0                          5.0   \n",
              "4              26200.0                          5.2   \n",
              "..                 ...                          ...   \n",
              "898                NaN                          NaN   \n",
              "899                NaN                          NaN   \n",
              "900                NaN                          NaN   \n",
              "901                NaN                          NaN   \n",
              "902                NaN                          NaN   \n",
              "\n",
              "     New_onefamily_houses_sold  Gross_domestic_product  \n",
              "0                        618.0                1135.156  \n",
              "1                        662.0                1156.271  \n",
              "2                        706.0                1177.675  \n",
              "3                        647.0                1190.297  \n",
              "4                        698.0                1230.609  \n",
              "..                         ...                     ...  \n",
              "898                        NaN                     NaN  \n",
              "899                        NaN                 243.164  \n",
              "900                        NaN                 245.968  \n",
              "901                        NaN                 249.585  \n",
              "902                        NaN                 259.745  \n",
              "\n",
              "[903 rows x 7 columns]"
            ],
            "text/html": [
              "\n",
              "  <div id=\"df-b258c2ba-5d62-40d3-8a92-de91d6036799\">\n",
              "    <div class=\"colab-df-container\">\n",
              "      <div>\n",
              "<style scoped>\n",
              "    .dataframe tbody tr th:only-of-type {\n",
              "        vertical-align: middle;\n",
              "    }\n",
              "\n",
              "    .dataframe tbody tr th {\n",
              "        vertical-align: top;\n",
              "    }\n",
              "\n",
              "    .dataframe thead th {\n",
              "        text-align: right;\n",
              "    }\n",
              "</style>\n",
              "<table border=\"1\" class=\"dataframe\">\n",
              "  <thead>\n",
              "    <tr style=\"text-align: right;\">\n",
              "      <th></th>\n",
              "      <th>DATE</th>\n",
              "      <th>Interestrate_priceindeces</th>\n",
              "      <th>Unemployment_rate</th>\n",
              "      <th>Median_salesprice</th>\n",
              "      <th>Monthly_supply_of_newhouses</th>\n",
              "      <th>New_onefamily_houses_sold</th>\n",
              "      <th>Gross_domestic_product</th>\n",
              "    </tr>\n",
              "  </thead>\n",
              "  <tbody>\n",
              "    <tr>\n",
              "      <th>0</th>\n",
              "      <td>1971-01-01</td>\n",
              "      <td>7330.0</td>\n",
              "      <td>5.9</td>\n",
              "      <td>24300.0</td>\n",
              "      <td>4.3</td>\n",
              "      <td>618.0</td>\n",
              "      <td>1135.156</td>\n",
              "    </tr>\n",
              "    <tr>\n",
              "      <th>1</th>\n",
              "      <td>1971-04-01</td>\n",
              "      <td>7429.0</td>\n",
              "      <td>5.9</td>\n",
              "      <td>25800.0</td>\n",
              "      <td>4.2</td>\n",
              "      <td>662.0</td>\n",
              "      <td>1156.271</td>\n",
              "    </tr>\n",
              "    <tr>\n",
              "      <th>2</th>\n",
              "      <td>1971-07-01</td>\n",
              "      <td>7668.0</td>\n",
              "      <td>6.0</td>\n",
              "      <td>25300.0</td>\n",
              "      <td>4.1</td>\n",
              "      <td>706.0</td>\n",
              "      <td>1177.675</td>\n",
              "    </tr>\n",
              "    <tr>\n",
              "      <th>3</th>\n",
              "      <td>1971-10-01</td>\n",
              "      <td>7544.0</td>\n",
              "      <td>5.8</td>\n",
              "      <td>25500.0</td>\n",
              "      <td>5.0</td>\n",
              "      <td>647.0</td>\n",
              "      <td>1190.297</td>\n",
              "    </tr>\n",
              "    <tr>\n",
              "      <th>4</th>\n",
              "      <td>1972-01-01</td>\n",
              "      <td>7349.0</td>\n",
              "      <td>5.8</td>\n",
              "      <td>26200.0</td>\n",
              "      <td>5.2</td>\n",
              "      <td>698.0</td>\n",
              "      <td>1230.609</td>\n",
              "    </tr>\n",
              "    <tr>\n",
              "      <th>...</th>\n",
              "      <td>...</td>\n",
              "      <td>...</td>\n",
              "      <td>...</td>\n",
              "      <td>...</td>\n",
              "      <td>...</td>\n",
              "      <td>...</td>\n",
              "      <td>...</td>\n",
              "    </tr>\n",
              "    <tr>\n",
              "      <th>898</th>\n",
              "      <td>2022-11-01</td>\n",
              "      <td>NaN</td>\n",
              "      <td>3.7</td>\n",
              "      <td>NaN</td>\n",
              "      <td>NaN</td>\n",
              "      <td>NaN</td>\n",
              "      <td>NaN</td>\n",
              "    </tr>\n",
              "    <tr>\n",
              "      <th>899</th>\n",
              "      <td>1947-01-01</td>\n",
              "      <td>NaN</td>\n",
              "      <td>NaN</td>\n",
              "      <td>NaN</td>\n",
              "      <td>NaN</td>\n",
              "      <td>NaN</td>\n",
              "      <td>243.164</td>\n",
              "    </tr>\n",
              "    <tr>\n",
              "      <th>900</th>\n",
              "      <td>1947-04-01</td>\n",
              "      <td>NaN</td>\n",
              "      <td>NaN</td>\n",
              "      <td>NaN</td>\n",
              "      <td>NaN</td>\n",
              "      <td>NaN</td>\n",
              "      <td>245.968</td>\n",
              "    </tr>\n",
              "    <tr>\n",
              "      <th>901</th>\n",
              "      <td>1947-07-01</td>\n",
              "      <td>NaN</td>\n",
              "      <td>NaN</td>\n",
              "      <td>NaN</td>\n",
              "      <td>NaN</td>\n",
              "      <td>NaN</td>\n",
              "      <td>249.585</td>\n",
              "    </tr>\n",
              "    <tr>\n",
              "      <th>902</th>\n",
              "      <td>1947-10-01</td>\n",
              "      <td>NaN</td>\n",
              "      <td>NaN</td>\n",
              "      <td>NaN</td>\n",
              "      <td>NaN</td>\n",
              "      <td>NaN</td>\n",
              "      <td>259.745</td>\n",
              "    </tr>\n",
              "  </tbody>\n",
              "</table>\n",
              "<p>903 rows × 7 columns</p>\n",
              "</div>\n",
              "      <button class=\"colab-df-convert\" onclick=\"convertToInteractive('df-b258c2ba-5d62-40d3-8a92-de91d6036799')\"\n",
              "              title=\"Convert this dataframe to an interactive table.\"\n",
              "              style=\"display:none;\">\n",
              "        \n",
              "  <svg xmlns=\"http://www.w3.org/2000/svg\" height=\"24px\"viewBox=\"0 0 24 24\"\n",
              "       width=\"24px\">\n",
              "    <path d=\"M0 0h24v24H0V0z\" fill=\"none\"/>\n",
              "    <path d=\"M18.56 5.44l.94 2.06.94-2.06 2.06-.94-2.06-.94-.94-2.06-.94 2.06-2.06.94zm-11 1L8.5 8.5l.94-2.06 2.06-.94-2.06-.94L8.5 2.5l-.94 2.06-2.06.94zm10 10l.94 2.06.94-2.06 2.06-.94-2.06-.94-.94-2.06-.94 2.06-2.06.94z\"/><path d=\"M17.41 7.96l-1.37-1.37c-.4-.4-.92-.59-1.43-.59-.52 0-1.04.2-1.43.59L10.3 9.45l-7.72 7.72c-.78.78-.78 2.05 0 2.83L4 21.41c.39.39.9.59 1.41.59.51 0 1.02-.2 1.41-.59l7.78-7.78 2.81-2.81c.8-.78.8-2.07 0-2.86zM5.41 20L4 18.59l7.72-7.72 1.47 1.35L5.41 20z\"/>\n",
              "  </svg>\n",
              "      </button>\n",
              "      \n",
              "  <style>\n",
              "    .colab-df-container {\n",
              "      display:flex;\n",
              "      flex-wrap:wrap;\n",
              "      gap: 12px;\n",
              "    }\n",
              "\n",
              "    .colab-df-convert {\n",
              "      background-color: #E8F0FE;\n",
              "      border: none;\n",
              "      border-radius: 50%;\n",
              "      cursor: pointer;\n",
              "      display: none;\n",
              "      fill: #1967D2;\n",
              "      height: 32px;\n",
              "      padding: 0 0 0 0;\n",
              "      width: 32px;\n",
              "    }\n",
              "\n",
              "    .colab-df-convert:hover {\n",
              "      background-color: #E2EBFA;\n",
              "      box-shadow: 0px 1px 2px rgba(60, 64, 67, 0.3), 0px 1px 3px 1px rgba(60, 64, 67, 0.15);\n",
              "      fill: #174EA6;\n",
              "    }\n",
              "\n",
              "    [theme=dark] .colab-df-convert {\n",
              "      background-color: #3B4455;\n",
              "      fill: #D2E3FC;\n",
              "    }\n",
              "\n",
              "    [theme=dark] .colab-df-convert:hover {\n",
              "      background-color: #434B5C;\n",
              "      box-shadow: 0px 1px 3px 1px rgba(0, 0, 0, 0.15);\n",
              "      filter: drop-shadow(0px 1px 2px rgba(0, 0, 0, 0.3));\n",
              "      fill: #FFFFFF;\n",
              "    }\n",
              "  </style>\n",
              "\n",
              "      <script>\n",
              "        const buttonEl =\n",
              "          document.querySelector('#df-b258c2ba-5d62-40d3-8a92-de91d6036799 button.colab-df-convert');\n",
              "        buttonEl.style.display =\n",
              "          google.colab.kernel.accessAllowed ? 'block' : 'none';\n",
              "\n",
              "        async function convertToInteractive(key) {\n",
              "          const element = document.querySelector('#df-b258c2ba-5d62-40d3-8a92-de91d6036799');\n",
              "          const dataTable =\n",
              "            await google.colab.kernel.invokeFunction('convertToInteractive',\n",
              "                                                     [key], {});\n",
              "          if (!dataTable) return;\n",
              "\n",
              "          const docLinkHtml = 'Like what you see? Visit the ' +\n",
              "            '<a target=\"_blank\" href=https://colab.research.google.com/notebooks/data_table.ipynb>data table notebook</a>'\n",
              "            + ' to learn more about interactive tables.';\n",
              "          element.innerHTML = '';\n",
              "          dataTable['output_type'] = 'display_data';\n",
              "          await google.colab.output.renderOutput(dataTable, element);\n",
              "          const docLink = document.createElement('div');\n",
              "          docLink.innerHTML = docLinkHtml;\n",
              "          element.appendChild(docLink);\n",
              "        }\n",
              "      </script>\n",
              "    </div>\n",
              "  </div>\n",
              "  "
            ]
          },
          "metadata": {},
          "execution_count": 17
        }
      ]
    },
    {
      "cell_type": "code",
      "source": [
        "DF123.dtypes"
      ],
      "metadata": {
        "colab": {
          "base_uri": "https://localhost:8080/"
        },
        "id": "hv9uttU_VI8A",
        "outputId": "fce077da-f8a7-49af-d1e9-3eeb03ab0202"
      },
      "execution_count": 18,
      "outputs": [
        {
          "output_type": "execute_result",
          "data": {
            "text/plain": [
              "DATE                            object\n",
              "Interestrate_priceindeces      float64\n",
              "Unemployment_rate              float64\n",
              "Median_salesprice              float64\n",
              "Monthly_supply_of_newhouses    float64\n",
              "New_onefamily_houses_sold      float64\n",
              "Gross_domestic_product         float64\n",
              "dtype: object"
            ]
          },
          "metadata": {},
          "execution_count": 18
        }
      ]
    },
    {
      "cell_type": "code",
      "source": [
        "DF123['DATE']=pd.to_datetime(DF123['DATE'])\n",
        "DF123.dtypes"
      ],
      "metadata": {
        "colab": {
          "base_uri": "https://localhost:8080/"
        },
        "id": "edQthS3bVI5b",
        "outputId": "c255a12b-356a-4760-8c19-2b0663f63f0f"
      },
      "execution_count": 19,
      "outputs": [
        {
          "output_type": "execute_result",
          "data": {
            "text/plain": [
              "DATE                           datetime64[ns]\n",
              "Interestrate_priceindeces             float64\n",
              "Unemployment_rate                     float64\n",
              "Median_salesprice                     float64\n",
              "Monthly_supply_of_newhouses           float64\n",
              "New_onefamily_houses_sold             float64\n",
              "Gross_domestic_product                float64\n",
              "dtype: object"
            ]
          },
          "metadata": {},
          "execution_count": 19
        }
      ]
    },
    {
      "cell_type": "markdown",
      "source": [
        "#**Data cleaning**"
      ],
      "metadata": {
        "id": "p6vmrT-BVRNZ"
      }
    },
    {
      "cell_type": "code",
      "source": [
        "print(DF123.shape)\n",
        "df_cleaned=DF123.dropna(axis=0) \n",
        "df_cleaned.shape"
      ],
      "metadata": {
        "colab": {
          "base_uri": "https://localhost:8080/"
        },
        "id": "kpvrVdMnVI22",
        "outputId": "ad6f816d-21e8-4ccf-f2d0-b40191198800"
      },
      "execution_count": 21,
      "outputs": [
        {
          "output_type": "stream",
          "name": "stdout",
          "text": [
            "(903, 7)\n"
          ]
        },
        {
          "output_type": "execute_result",
          "data": {
            "text/plain": [
              "(207, 7)"
            ]
          },
          "metadata": {},
          "execution_count": 21
        }
      ]
    },
    {
      "cell_type": "code",
      "source": [
        "df_cleaned=df_cleaned.drop_duplicates()\n",
        "df_cleaned.shape"
      ],
      "metadata": {
        "colab": {
          "base_uri": "https://localhost:8080/"
        },
        "id": "7TcWHKUwVI0P",
        "outputId": "a2cdd645-7f4a-4289-d6ce-823140e360ea"
      },
      "execution_count": 22,
      "outputs": [
        {
          "output_type": "execute_result",
          "data": {
            "text/plain": [
              "(207, 7)"
            ]
          },
          "metadata": {},
          "execution_count": 22
        }
      ]
    },
    {
      "cell_type": "code",
      "source": [
        "sns.heatmap(df_cleaned.corr(),annot=True) "
      ],
      "metadata": {
        "colab": {
          "base_uri": "https://localhost:8080/",
          "height": 430
        },
        "id": "LSXa-AcDVIxo",
        "outputId": "a858bd72-c5b1-479d-87f7-d1e3863d492b"
      },
      "execution_count": 23,
      "outputs": [
        {
          "output_type": "execute_result",
          "data": {
            "text/plain": [
              "<matplotlib.axes._subplots.AxesSubplot at 0x7f8442a6c8b0>"
            ]
          },
          "metadata": {},
          "execution_count": 23
        },
        {
          "output_type": "display_data",
          "data": {
            "text/plain": [
              "<Figure size 432x288 with 2 Axes>"
            ],
            "image/png": "[encoded data removed]"
          },
          "metadata": {
            "needs_background": "light"
          }
        }
      ]
    },
    {
      "cell_type": "code",
      "source": [
        "y =df_cleaned['Median_salesprice'] \n",
        "X =df_cleaned.drop(columns=['Median_salesprice','DATE'])"
      ],
      "metadata": {
        "id": "apdTZX0WVIvR"
      },
      "execution_count": 26,
      "outputs": []
    },
    {
      "cell_type": "code",
      "source": [
        "from sklearn.model_selection import train_test_split\n",
        "X_train, X_test, y_train, y_test = train_test_split(X, y, test_size=0.2, random_state=0)"
      ],
      "metadata": {
        "id": "s3H38yI2VIsx"
      },
      "execution_count": 27,
      "outputs": []
    },
    {
      "cell_type": "code",
      "source": [
        "from sklearn.model_selection import cross_val_score #this will help me to do cross- validation\n",
        "from sklearn.tree import DecisionTreeRegressor\n",
        "for depth in [1,2,3,4,5,6,7,8,9,10,20]:\n",
        "  dt = DecisionTreeRegressor(max_depth=depth) # will tell the DT to not grow past the given threhsold\n",
        "  # Fit dt to the training set\n",
        "  dt.fit(X_train, y_train) # the model is trained\n",
        "  train_r2= dt.score(X_train,y_train, sample_weight=None)\n",
        "  dt = DecisionTreeRegressor(max_depth=depth) # a fresh model which is not trained yet\n",
        "  valAccuracy = cross_val_score(dt, X_train, y_train, cv=10) # syntax : cross_val_Score(freshModel,fts, target, cv= 10/5)\n",
        "  print(\"Depth  : \", depth, \" Training r2 score : \", train_r2, \" Cross val score : \" ,np.mean(valAccuracy))\n"
      ],
      "metadata": {
        "colab": {
          "base_uri": "https://localhost:8080/"
        },
        "id": "rHxIjVIRVIqH",
        "outputId": "196360f0-062e-43d0-ce71-4e3fa806779c"
      },
      "execution_count": 28,
      "outputs": [
        {
          "output_type": "stream",
          "name": "stdout",
          "text": [
            "Depth  :  1  Training r2 score :  0.7354343949800461  Cross val score :  0.6909814361534607\n",
            "Depth  :  2  Training r2 score :  0.9285083141706401  Cross val score :  0.9074470508498136\n",
            "Depth  :  3  Training r2 score :  0.9833623445909723  Cross val score :  0.9722625332379558\n",
            "Depth  :  4  Training r2 score :  0.9942391020042842  Cross val score :  0.9860738048915225\n",
            "Depth  :  5  Training r2 score :  0.9976972313534506  Cross val score :  0.9906070534834226\n",
            "Depth  :  6  Training r2 score :  0.9991190294813868  Cross val score :  0.9896273797487828\n",
            "Depth  :  7  Training r2 score :  0.9996690855788057  Cross val score :  0.9891828118860178\n",
            "Depth  :  8  Training r2 score :  0.9998799348453562  Cross val score :  0.9914118869907631\n",
            "Depth  :  9  Training r2 score :  0.9999643273447933  Cross val score :  0.9907365287017982\n",
            "Depth  :  10  Training r2 score :  0.9999844677303386  Cross val score :  0.9893148666497019\n",
            "Depth  :  20  Training r2 score :  1.0  Cross val score :  0.9909850547121145\n"
          ]
        }
      ]
    },
    {
      "cell_type": "code",
      "source": [
        "dt = DecisionTreeRegressor(max_depth=8)\n",
        "# Fit dt to the training set\n",
        "dt.fit(X_train, y_train) # it will ask all possible questions, compute the information gain and choose the best split\n",
        "\n",
        "# Predict test set labels\n",
        "y_pred = dt.predict(X_test)\n",
        "print(y_pred)\n",
        "#print(y_pred[0:5])\n",
        "r2=dt.score(X, y, sample_weight=None)\n",
        "print(r2)"
      ],
      "metadata": {
        "colab": {
          "base_uri": "https://localhost:8080/"
        },
        "id": "RmrW0r9iVn-C",
        "outputId": "be87c038-e27a-4e88-830c-7ed00dffe6b8"
      },
      "execution_count": 29,
      "outputs": [
        {
          "output_type": "stream",
          "name": "stdout",
          "text": [
            "[ 39000. 121500.  60600.  27900. 222830. 120025. 163200. 171100. 127000.\n",
            " 191900.  69300. 222830.  83000. 313000. 133900. 120025. 330900.  69400.\n",
            " 111500.  41200. 258400.  36200.  27900.  80700. 127000. 222830. 178550.\n",
            " 171100. 222830. 313100. 120025. 303800. 230650. 120025. 313100. 238400.\n",
            " 302500. 165300.  36200. 222830. 243800.  45500.]\n",
            "0.9990862784769526\n"
          ]
        }
      ]
    },
    {
      "cell_type": "code",
      "source": [
        "X.columns"
      ],
      "metadata": {
        "colab": {
          "base_uri": "https://localhost:8080/"
        },
        "id": "WyLFKspnVn7K",
        "outputId": "90e4418b-b60b-4036-c554-d1490dd00f45"
      },
      "execution_count": 30,
      "outputs": [
        {
          "output_type": "execute_result",
          "data": {
            "text/plain": [
              "Index(['Interestrate_priceindeces', 'Unemployment_rate',\n",
              "       'Monthly_supply_of_newhouses', 'New_onefamily_houses_sold',\n",
              "       'Gross_domestic_product'],\n",
              "      dtype='object')"
            ]
          },
          "metadata": {},
          "execution_count": 30
        }
      ]
    },
    {
      "cell_type": "code",
      "source": [
        "dt.feature_importances_"
      ],
      "metadata": {
        "colab": {
          "base_uri": "https://localhost:8080/"
        },
        "id": "mtDPwmLdVn4k",
        "outputId": "c5dff674-4bc2-4d15-8313-954baec196ec"
      },
      "execution_count": 31,
      "outputs": [
        {
          "output_type": "execute_result",
          "data": {
            "text/plain": [
              "array([3.45991622e-03, 2.71065886e-03, 4.92495295e-04, 6.03287243e-04,\n",
              "       9.92733642e-01])"
            ]
          },
          "metadata": {},
          "execution_count": 31
        }
      ]
    },
    {
      "cell_type": "code",
      "source": [
        "imp= dt.feature_importances_\n",
        "importance = [round(i, 3) for i in imp]\n",
        "\n",
        "features = X.columns.tolist()\n",
        "featu=[i for i in features]\n",
        "    \n",
        "df_new = pd.DataFrame({'Features': featu, 'Importance': importance})\n",
        "df_new"
      ],
      "metadata": {
        "colab": {
          "base_uri": "https://localhost:8080/",
          "height": 206
        },
        "id": "ghtkLDYbVn0F",
        "outputId": "7b869b01-9539-4285-ee5e-1a8291a5db00"
      },
      "execution_count": 32,
      "outputs": [
        {
          "output_type": "execute_result",
          "data": {
            "text/plain": [
              "                      Features  Importance\n",
              "0    Interestrate_priceindeces       0.003\n",
              "1            Unemployment_rate       0.003\n",
              "2  Monthly_supply_of_newhouses       0.000\n",
              "3    New_onefamily_houses_sold       0.001\n",
              "4       Gross_domestic_product       0.993"
            ],
            "text/html": [
              "\n",
              "  <div id=\"df-99ee5175-9828-495d-939b-2ba2d57146c9\">\n",
              "    <div class=\"colab-df-container\">\n",
              "      <div>\n",
              "<style scoped>\n",
              "    .dataframe tbody tr th:only-of-type {\n",
              "        vertical-align: middle;\n",
              "    }\n",
              "\n",
              "    .dataframe tbody tr th {\n",
              "        vertical-align: top;\n",
              "    }\n",
              "\n",
              "    .dataframe thead th {\n",
              "        text-align: right;\n",
              "    }\n",
              "</style>\n",
              "<table border=\"1\" class=\"dataframe\">\n",
              "  <thead>\n",
              "    <tr style=\"text-align: right;\">\n",
              "      <th></th>\n",
              "      <th>Features</th>\n",
              "      <th>Importance</th>\n",
              "    </tr>\n",
              "  </thead>\n",
              "  <tbody>\n",
              "    <tr>\n",
              "      <th>0</th>\n",
              "      <td>Interestrate_priceindeces</td>\n",
              "      <td>0.003</td>\n",
              "    </tr>\n",
              "    <tr>\n",
              "      <th>1</th>\n",
              "      <td>Unemployment_rate</td>\n",
              "      <td>0.003</td>\n",
              "    </tr>\n",
              "    <tr>\n",
              "      <th>2</th>\n",
              "      <td>Monthly_supply_of_newhouses</td>\n",
              "      <td>0.000</td>\n",
              "    </tr>\n",
              "    <tr>\n",
              "      <th>3</th>\n",
              "      <td>New_onefamily_houses_sold</td>\n",
              "      <td>0.001</td>\n",
              "    </tr>\n",
              "    <tr>\n",
              "      <th>4</th>\n",
              "      <td>Gross_domestic_product</td>\n",
              "      <td>0.993</td>\n",
              "    </tr>\n",
              "  </tbody>\n",
              "</table>\n",
              "</div>\n",
              "      <button class=\"colab-df-convert\" onclick=\"convertToInteractive('df-99ee5175-9828-495d-939b-2ba2d57146c9')\"\n",
              "              title=\"Convert this dataframe to an interactive table.\"\n",
              "              style=\"display:none;\">\n",
              "        \n",
              "  <svg xmlns=\"http://www.w3.org/2000/svg\" height=\"24px\"viewBox=\"0 0 24 24\"\n",
              "       width=\"24px\">\n",
              "    <path d=\"M0 0h24v24H0V0z\" fill=\"none\"/>\n",
              "    <path d=\"M18.56 5.44l.94 2.06.94-2.06 2.06-.94-2.06-.94-.94-2.06-.94 2.06-2.06.94zm-11 1L8.5 8.5l.94-2.06 2.06-.94-2.06-.94L8.5 2.5l-.94 2.06-2.06.94zm10 10l.94 2.06.94-2.06 2.06-.94-2.06-.94-.94-2.06-.94 2.06-2.06.94z\"/><path d=\"M17.41 7.96l-1.37-1.37c-.4-.4-.92-.59-1.43-.59-.52 0-1.04.2-1.43.59L10.3 9.45l-7.72 7.72c-.78.78-.78 2.05 0 2.83L4 21.41c.39.39.9.59 1.41.59.51 0 1.02-.2 1.41-.59l7.78-7.78 2.81-2.81c.8-.78.8-2.07 0-2.86zM5.41 20L4 18.59l7.72-7.72 1.47 1.35L5.41 20z\"/>\n",
              "  </svg>\n",
              "      </button>\n",
              "      \n",
              "  <style>\n",
              "    .colab-df-container {\n",
              "      display:flex;\n",
              "      flex-wrap:wrap;\n",
              "      gap: 12px;\n",
              "    }\n",
              "\n",
              "    .colab-df-convert {\n",
              "      background-color: #E8F0FE;\n",
              "      border: none;\n",
              "      border-radius: 50%;\n",
              "      cursor: pointer;\n",
              "      display: none;\n",
              "      fill: #1967D2;\n",
              "      height: 32px;\n",
              "      padding: 0 0 0 0;\n",
              "      width: 32px;\n",
              "    }\n",
              "\n",
              "    .colab-df-convert:hover {\n",
              "      background-color: #E2EBFA;\n",
              "      box-shadow: 0px 1px 2px rgba(60, 64, 67, 0.3), 0px 1px 3px 1px rgba(60, 64, 67, 0.15);\n",
              "      fill: #174EA6;\n",
              "    }\n",
              "\n",
              "    [theme=dark] .colab-df-convert {\n",
              "      background-color: #3B4455;\n",
              "      fill: #D2E3FC;\n",
              "    }\n",
              "\n",
              "    [theme=dark] .colab-df-convert:hover {\n",
              "      background-color: #434B5C;\n",
              "      box-shadow: 0px 1px 3px 1px rgba(0, 0, 0, 0.15);\n",
              "      filter: drop-shadow(0px 1px 2px rgba(0, 0, 0, 0.3));\n",
              "      fill: #FFFFFF;\n",
              "    }\n",
              "  </style>\n",
              "\n",
              "      <script>\n",
              "        const buttonEl =\n",
              "          document.querySelector('#df-99ee5175-9828-495d-939b-2ba2d57146c9 button.colab-df-convert');\n",
              "        buttonEl.style.display =\n",
              "          google.colab.kernel.accessAllowed ? 'block' : 'none';\n",
              "\n",
              "        async function convertToInteractive(key) {\n",
              "          const element = document.querySelector('#df-99ee5175-9828-495d-939b-2ba2d57146c9');\n",
              "          const dataTable =\n",
              "            await google.colab.kernel.invokeFunction('convertToInteractive',\n",
              "                                                     [key], {});\n",
              "          if (!dataTable) return;\n",
              "\n",
              "          const docLinkHtml = 'Like what you see? Visit the ' +\n",
              "            '<a target=\"_blank\" href=https://colab.research.google.com/notebooks/data_table.ipynb>data table notebook</a>'\n",
              "            + ' to learn more about interactive tables.';\n",
              "          element.innerHTML = '';\n",
              "          dataTable['output_type'] = 'display_data';\n",
              "          await google.colab.output.renderOutput(dataTable, element);\n",
              "          const docLink = document.createElement('div');\n",
              "          docLink.innerHTML = docLinkHtml;\n",
              "          element.appendChild(docLink);\n",
              "        }\n",
              "      </script>\n",
              "    </div>\n",
              "  </div>\n",
              "  "
            ]
          },
          "metadata": {},
          "execution_count": 32
        }
      ]
    },
    {
      "cell_type": "code",
      "source": [
        "fig=sns.catplot(\n",
        "    data=df_new,kind='bar',\n",
        "    x='Importance',\n",
        "    y='Features',\n",
        "    \n",
        "    )\n",
        "# iterate through the axes\n",
        "for ax in fig.axes.flat:\n",
        "\n",
        "    # annotate\n",
        "    ax.bar_label(ax.containers[0], label_type='edge')\n",
        "\n",
        "    # pad the spacing between the number and the edge of the figure; should be in the loop, otherwise only the last subplot would be adjusted\n",
        "    ax.margins(y=0.1)\n",
        "plt.title('Feature importance', loc='center',color='r')\n",
        "plt.xticks(fontsize=10,color='black')\n",
        "plt.show()"
      ],
      "metadata": {
        "colab": {
          "base_uri": "https://localhost:8080/",
          "height": 604
        },
        "id": "TJ8bDAuhVnuk",
        "outputId": "ca9a8ae8-b354-4899-930a-3237aa9ec1da"
      },
      "execution_count": 36,
      "outputs": [
        {
          "output_type": "error",
          "ename": "AttributeError",
          "evalue": "ignored",
          "traceback": [
            "\u001b[0;31m---------------------------------------------------------------------------\u001b[0m",
            "\u001b[0;31mAttributeError\u001b[0m                            Traceback (most recent call last)",
            "\u001b[0;32m<ipython-input-36-924554356c8d>\u001b[0m in \u001b[0;36m<module>\u001b[0;34m\u001b[0m\n\u001b[1;32m      9\u001b[0m \u001b[0;34m\u001b[0m\u001b[0m\n\u001b[1;32m     10\u001b[0m     \u001b[0;31m# annotate\u001b[0m\u001b[0;34m\u001b[0m\u001b[0;34m\u001b[0m\u001b[0;34m\u001b[0m\u001b[0m\n\u001b[0;32m---> 11\u001b[0;31m     \u001b[0max\u001b[0m\u001b[0;34m.\u001b[0m\u001b[0mbar_label\u001b[0m\u001b[0;34m(\u001b[0m\u001b[0max\u001b[0m\u001b[0;34m.\u001b[0m\u001b[0mcontainers\u001b[0m\u001b[0;34m[\u001b[0m\u001b[0;36m0\u001b[0m\u001b[0;34m]\u001b[0m\u001b[0;34m,\u001b[0m \u001b[0mlabel_type\u001b[0m\u001b[0;34m=\u001b[0m\u001b[0;34m'edge'\u001b[0m\u001b[0;34m)\u001b[0m\u001b[0;34m\u001b[0m\u001b[0;34m\u001b[0m\u001b[0m\n\u001b[0m\u001b[1;32m     12\u001b[0m \u001b[0;34m\u001b[0m\u001b[0m\n\u001b[1;32m     13\u001b[0m     \u001b[0;31m# pad the spacing between the number and the edge of the figure; should be in the loop, otherwise only the last subplot would be adjusted\u001b[0m\u001b[0;34m\u001b[0m\u001b[0;34m\u001b[0m\u001b[0;34m\u001b[0m\u001b[0m\n",
            "\u001b[0;31mAttributeError\u001b[0m: 'AxesSubplot' object has no attribute 'bar_label'"
          ]
        },
        {
          "output_type": "display_data",
          "data": {
            "text/plain": [
              "<Figure size 360x360 with 1 Axes>"
            ],
            "image/png": "[encoded data removed]"
          },
          "metadata": {
            "needs_background": "light"
          }
        }
      ]
    },
    {
      "cell_type": "markdown",
      "source": [
        "#**Plotting**"
      ],
      "metadata": {
        "id": "W6yoOjWaWOUO"
      }
    },
    {
      "cell_type": "code",
      "source": [
        "DF=df_cleaned.copy()\n",
        "DF.columns"
      ],
      "metadata": {
        "colab": {
          "base_uri": "https://localhost:8080/"
        },
        "id": "oJ1Z0s-3WOFX",
        "outputId": "116ae946-2626-4963-f01c-41670e7eb993"
      },
      "execution_count": 41,
      "outputs": [
        {
          "output_type": "execute_result",
          "data": {
            "text/plain": [
              "Index(['DATE', 'Interestrate_priceindeces', 'Unemployment_rate',\n",
              "       'Median_salesprice', 'Monthly_supply_of_newhouses',\n",
              "       'New_onefamily_houses_sold', 'Gross_domestic_product'],\n",
              "      dtype='object')"
            ]
          },
          "metadata": {},
          "execution_count": 41
        }
      ]
    },
    {
      "cell_type": "code",
      "source": [
        "#to year from DATE\n",
        "\n",
        "DF['Year'] = DF['DATE'].dt.year\n",
        "#df_cleaned['Month'] = df_cleaned['DATE'].dt.month\n",
        "#df_cleaned['Year_month'] = df_cleaned['Year'].astype(str) + \"-\" +df_cleaned['Month'].astype(str)\n",
        "#df_cleaned=df_cleaned.drop(columns=[\"DATE\", \"Year\",\"Month\"])\n",
        "DF=DF.drop(columns=[\"DATE\"])\n",
        "DF"
      ],
      "metadata": {
        "colab": {
          "base_uri": "https://localhost:8080/",
          "height": 488
        },
        "id": "JGHDhDypWN9v",
        "outputId": "3c1d2c61-f0e7-4845-9dfd-64e259b02aeb"
      },
      "execution_count": 42,
      "outputs": [
        {
          "output_type": "execute_result",
          "data": {
            "text/plain": [
              "     Interestrate_priceindeces  Unemployment_rate  Median_salesprice  \\\n",
              "0                       7330.0                5.9            24300.0   \n",
              "1                       7429.0                5.9            25800.0   \n",
              "2                       7668.0                6.0            25300.0   \n",
              "3                       7544.0                5.8            25500.0   \n",
              "4                       7349.0                5.8            26200.0   \n",
              "..                         ...                ...                ...   \n",
              "202                     2864.0                5.4           411200.0   \n",
              "203                     3079.0                4.6           423600.0   \n",
              "204                     3822.0                4.0           433100.0   \n",
              "205                     5266.0                3.6           449300.0   \n",
              "206                     5623.0                3.5           454900.0   \n",
              "\n",
              "     Monthly_supply_of_newhouses  New_onefamily_houses_sold  \\\n",
              "0                            4.3                      618.0   \n",
              "1                            4.2                      662.0   \n",
              "2                            4.1                      706.0   \n",
              "3                            5.0                      647.0   \n",
              "4                            5.2                      698.0   \n",
              "..                           ...                        ...   \n",
              "202                          6.0                      726.0   \n",
              "203                          6.9                      671.0   \n",
              "204                          5.7                      831.0   \n",
              "205                          8.4                      619.0   \n",
              "206                         10.1                      543.0   \n",
              "\n",
              "     Gross_domestic_product  Year  \n",
              "0                  1135.156  1971  \n",
              "1                  1156.271  1971  \n",
              "2                  1177.675  1971  \n",
              "3                  1190.297  1971  \n",
              "4                  1230.609  1972  \n",
              "..                      ...   ...  \n",
              "202               23550.420  2021  \n",
              "203               24349.121  2021  \n",
              "204               24740.480  2022  \n",
              "205               25248.476  2022  \n",
              "206               25698.960  2022  \n",
              "\n",
              "[207 rows x 7 columns]"
            ],
            "text/html": [
              "\n",
              "  <div id=\"df-1de2cfd4-5bed-4ef6-8ba2-0d69dfd2d5d1\">\n",
              "    <div class=\"colab-df-container\">\n",
              "      <div>\n",
              "<style scoped>\n",
              "    .dataframe tbody tr th:only-of-type {\n",
              "        vertical-align: middle;\n",
              "    }\n",
              "\n",
              "    .dataframe tbody tr th {\n",
              "        vertical-align: top;\n",
              "    }\n",
              "\n",
              "    .dataframe thead th {\n",
              "        text-align: right;\n",
              "    }\n",
              "</style>\n",
              "<table border=\"1\" class=\"dataframe\">\n",
              "  <thead>\n",
              "    <tr style=\"text-align: right;\">\n",
              "      <th></th>\n",
              "      <th>Interestrate_priceindeces</th>\n",
              "      <th>Unemployment_rate</th>\n",
              "      <th>Median_salesprice</th>\n",
              "      <th>Monthly_supply_of_newhouses</th>\n",
              "      <th>New_onefamily_houses_sold</th>\n",
              "      <th>Gross_domestic_product</th>\n",
              "      <th>Year</th>\n",
              "    </tr>\n",
              "  </thead>\n",
              "  <tbody>\n",
              "    <tr>\n",
              "      <th>0</th>\n",
              "      <td>7330.0</td>\n",
              "      <td>5.9</td>\n",
              "      <td>24300.0</td>\n",
              "      <td>4.3</td>\n",
              "      <td>618.0</td>\n",
              "      <td>1135.156</td>\n",
              "      <td>1971</td>\n",
              "    </tr>\n",
              "    <tr>\n",
              "      <th>1</th>\n",
              "      <td>7429.0</td>\n",
              "      <td>5.9</td>\n",
              "      <td>25800.0</td>\n",
              "      <td>4.2</td>\n",
              "      <td>662.0</td>\n",
              "      <td>1156.271</td>\n",
              "      <td>1971</td>\n",
              "    </tr>\n",
              "    <tr>\n",
              "      <th>2</th>\n",
              "      <td>7668.0</td>\n",
              "      <td>6.0</td>\n",
              "      <td>25300.0</td>\n",
              "      <td>4.1</td>\n",
              "      <td>706.0</td>\n",
              "      <td>1177.675</td>\n",
              "      <td>1971</td>\n",
              "    </tr>\n",
              "    <tr>\n",
              "      <th>3</th>\n",
              "      <td>7544.0</td>\n",
              "      <td>5.8</td>\n",
              "      <td>25500.0</td>\n",
              "      <td>5.0</td>\n",
              "      <td>647.0</td>\n",
              "      <td>1190.297</td>\n",
              "      <td>1971</td>\n",
              "    </tr>\n",
              "    <tr>\n",
              "      <th>4</th>\n",
              "      <td>7349.0</td>\n",
              "      <td>5.8</td>\n",
              "      <td>26200.0</td>\n",
              "      <td>5.2</td>\n",
              "      <td>698.0</td>\n",
              "      <td>1230.609</td>\n",
              "      <td>1972</td>\n",
              "    </tr>\n",
              "    <tr>\n",
              "      <th>...</th>\n",
              "      <td>...</td>\n",
              "      <td>...</td>\n",
              "      <td>...</td>\n",
              "      <td>...</td>\n",
              "      <td>...</td>\n",
              "      <td>...</td>\n",
              "      <td>...</td>\n",
              "    </tr>\n",
              "    <tr>\n",
              "      <th>202</th>\n",
              "      <td>2864.0</td>\n",
              "      <td>5.4</td>\n",
              "      <td>411200.0</td>\n",
              "      <td>6.0</td>\n",
              "      <td>726.0</td>\n",
              "      <td>23550.420</td>\n",
              "      <td>2021</td>\n",
              "    </tr>\n",
              "    <tr>\n",
              "      <th>203</th>\n",
              "      <td>3079.0</td>\n",
              "      <td>4.6</td>\n",
              "      <td>423600.0</td>\n",
              "      <td>6.9</td>\n",
              "      <td>671.0</td>\n",
              "      <td>24349.121</td>\n",
              "      <td>2021</td>\n",
              "    </tr>\n",
              "    <tr>\n",
              "      <th>204</th>\n",
              "      <td>3822.0</td>\n",
              "      <td>4.0</td>\n",
              "      <td>433100.0</td>\n",
              "      <td>5.7</td>\n",
              "      <td>831.0</td>\n",
              "      <td>24740.480</td>\n",
              "      <td>2022</td>\n",
              "    </tr>\n",
              "    <tr>\n",
              "      <th>205</th>\n",
              "      <td>5266.0</td>\n",
              "      <td>3.6</td>\n",
              "      <td>449300.0</td>\n",
              "      <td>8.4</td>\n",
              "      <td>619.0</td>\n",
              "      <td>25248.476</td>\n",
              "      <td>2022</td>\n",
              "    </tr>\n",
              "    <tr>\n",
              "      <th>206</th>\n",
              "      <td>5623.0</td>\n",
              "      <td>3.5</td>\n",
              "      <td>454900.0</td>\n",
              "      <td>10.1</td>\n",
              "      <td>543.0</td>\n",
              "      <td>25698.960</td>\n",
              "      <td>2022</td>\n",
              "    </tr>\n",
              "  </tbody>\n",
              "</table>\n",
              "<p>207 rows × 7 columns</p>\n",
              "</div>\n",
              "      <button class=\"colab-df-convert\" onclick=\"convertToInteractive('df-1de2cfd4-5bed-4ef6-8ba2-0d69dfd2d5d1')\"\n",
              "              title=\"Convert this dataframe to an interactive table.\"\n",
              "              style=\"display:none;\">\n",
              "        \n",
              "  <svg xmlns=\"http://www.w3.org/2000/svg\" height=\"24px\"viewBox=\"0 0 24 24\"\n",
              "       width=\"24px\">\n",
              "    <path d=\"M0 0h24v24H0V0z\" fill=\"none\"/>\n",
              "    <path d=\"M18.56 5.44l.94 2.06.94-2.06 2.06-.94-2.06-.94-.94-2.06-.94 2.06-2.06.94zm-11 1L8.5 8.5l.94-2.06 2.06-.94-2.06-.94L8.5 2.5l-.94 2.06-2.06.94zm10 10l.94 2.06.94-2.06 2.06-.94-2.06-.94-.94-2.06-.94 2.06-2.06.94z\"/><path d=\"M17.41 7.96l-1.37-1.37c-.4-.4-.92-.59-1.43-.59-.52 0-1.04.2-1.43.59L10.3 9.45l-7.72 7.72c-.78.78-.78 2.05 0 2.83L4 21.41c.39.39.9.59 1.41.59.51 0 1.02-.2 1.41-.59l7.78-7.78 2.81-2.81c.8-.78.8-2.07 0-2.86zM5.41 20L4 18.59l7.72-7.72 1.47 1.35L5.41 20z\"/>\n",
              "  </svg>\n",
              "      </button>\n",
              "      \n",
              "  <style>\n",
              "    .colab-df-container {\n",
              "      display:flex;\n",
              "      flex-wrap:wrap;\n",
              "      gap: 12px;\n",
              "    }\n",
              "\n",
              "    .colab-df-convert {\n",
              "      background-color: #E8F0FE;\n",
              "      border: none;\n",
              "      border-radius: 50%;\n",
              "      cursor: pointer;\n",
              "      display: none;\n",
              "      fill: #1967D2;\n",
              "      height: 32px;\n",
              "      padding: 0 0 0 0;\n",
              "      width: 32px;\n",
              "    }\n",
              "\n",
              "    .colab-df-convert:hover {\n",
              "      background-color: #E2EBFA;\n",
              "      box-shadow: 0px 1px 2px rgba(60, 64, 67, 0.3), 0px 1px 3px 1px rgba(60, 64, 67, 0.15);\n",
              "      fill: #174EA6;\n",
              "    }\n",
              "\n",
              "    [theme=dark] .colab-df-convert {\n",
              "      background-color: #3B4455;\n",
              "      fill: #D2E3FC;\n",
              "    }\n",
              "\n",
              "    [theme=dark] .colab-df-convert:hover {\n",
              "      background-color: #434B5C;\n",
              "      box-shadow: 0px 1px 3px 1px rgba(0, 0, 0, 0.15);\n",
              "      filter: drop-shadow(0px 1px 2px rgba(0, 0, 0, 0.3));\n",
              "      fill: #FFFFFF;\n",
              "    }\n",
              "  </style>\n",
              "\n",
              "      <script>\n",
              "        const buttonEl =\n",
              "          document.querySelector('#df-1de2cfd4-5bed-4ef6-8ba2-0d69dfd2d5d1 button.colab-df-convert');\n",
              "        buttonEl.style.display =\n",
              "          google.colab.kernel.accessAllowed ? 'block' : 'none';\n",
              "\n",
              "        async function convertToInteractive(key) {\n",
              "          const element = document.querySelector('#df-1de2cfd4-5bed-4ef6-8ba2-0d69dfd2d5d1');\n",
              "          const dataTable =\n",
              "            await google.colab.kernel.invokeFunction('convertToInteractive',\n",
              "                                                     [key], {});\n",
              "          if (!dataTable) return;\n",
              "\n",
              "          const docLinkHtml = 'Like what you see? Visit the ' +\n",
              "            '<a target=\"_blank\" href=https://colab.research.google.com/notebooks/data_table.ipynb>data table notebook</a>'\n",
              "            + ' to learn more about interactive tables.';\n",
              "          element.innerHTML = '';\n",
              "          dataTable['output_type'] = 'display_data';\n",
              "          await google.colab.output.renderOutput(dataTable, element);\n",
              "          const docLink = document.createElement('div');\n",
              "          docLink.innerHTML = docLinkHtml;\n",
              "          element.appendChild(docLink);\n",
              "        }\n",
              "      </script>\n",
              "    </div>\n",
              "  </div>\n",
              "  "
            ]
          },
          "metadata": {},
          "execution_count": 42
        }
      ]
    },
    {
      "cell_type": "code",
      "source": [
        "import seaborn as sns\n",
        "sns.set_theme(style=\"darkgrid\")"
      ],
      "metadata": {
        "id": "69ENJZFbWN7v"
      },
      "execution_count": 43,
      "outputs": []
    },
    {
      "cell_type": "code",
      "source": [
        "sns.lineplot(data=DF, x=\"Year\", y=\"Unemployment_rate\")"
      ],
      "metadata": {
        "colab": {
          "base_uri": "https://localhost:8080/",
          "height": 302
        },
        "id": "rG0PeU5kWN5H",
        "outputId": "81e78e15-6b08-4c00-d8de-918fa77fdade"
      },
      "execution_count": 44,
      "outputs": [
        {
          "output_type": "execute_result",
          "data": {
            "text/plain": [
              "<matplotlib.axes._subplots.AxesSubplot at 0x7f843eaec790>"
            ]
          },
          "metadata": {},
          "execution_count": 44
        },
        {
          "output_type": "display_data",
          "data": {
            "text/plain": [
              "<Figure size 432x288 with 1 Axes>"
            ],
            "image/png": "[encoded data removed]"
          },
          "metadata": {}
        }
      ]
    },
    {
      "cell_type": "code",
      "source": [
        "sns.lineplot(data=DF, x=\"Year\", y=\"Interestrate_priceindeces\")"
      ],
      "metadata": {
        "colab": {
          "base_uri": "https://localhost:8080/",
          "height": 302
        },
        "id": "0yjSk1IUWN2X",
        "outputId": "77bfd47e-3a92-41b8-c1a6-159dfbeaab08"
      },
      "execution_count": 45,
      "outputs": [
        {
          "output_type": "execute_result",
          "data": {
            "text/plain": [
              "<matplotlib.axes._subplots.AxesSubplot at 0x7f843ea97bb0>"
            ]
          },
          "metadata": {},
          "execution_count": 45
        },
        {
          "output_type": "display_data",
          "data": {
            "text/plain": [
              "<Figure size 432x288 with 1 Axes>"
            ],
            "image/png": "[encoded data removed]"
          },
          "metadata": {}
        }
      ]
    },
    {
      "cell_type": "code",
      "source": [
        "sns.lineplot(data=DF, x=\"Year\", y=\"Monthly_supply_of_newhouses\")"
      ],
      "metadata": {
        "colab": {
          "base_uri": "https://localhost:8080/",
          "height": 302
        },
        "id": "-6_KpyzEVInK",
        "outputId": "64463db8-4603-41f9-b659-eb41f1d97f74"
      },
      "execution_count": 46,
      "outputs": [
        {
          "output_type": "execute_result",
          "data": {
            "text/plain": [
              "<matplotlib.axes._subplots.AxesSubplot at 0x7f843ddbfe20>"
            ]
          },
          "metadata": {},
          "execution_count": 46
        },
        {
          "output_type": "display_data",
          "data": {
            "text/plain": [
              "<Figure size 432x288 with 1 Axes>"
            ],
            "image/png": "[encoded data removed]"
          },
          "metadata": {}
        }
      ]
    },
    {
      "cell_type": "code",
      "source": [
        "sns.lineplot(data=DF, x=\"Year\", y=\"New_onefamily_houses_sold\")"
      ],
      "metadata": {
        "colab": {
          "base_uri": "https://localhost:8080/",
          "height": 303
        },
        "id": "cU4KG1DUW9ko",
        "outputId": "5292f332-1c20-474d-cd04-5919f3dda8c3"
      },
      "execution_count": 47,
      "outputs": [
        {
          "output_type": "execute_result",
          "data": {
            "text/plain": [
              "<matplotlib.axes._subplots.AxesSubplot at 0x7f843dd98a00>"
            ]
          },
          "metadata": {},
          "execution_count": 47
        },
        {
          "output_type": "display_data",
          "data": {
            "text/plain": [
              "<Figure size 432x288 with 1 Axes>"
            ],
            "image/png": "[encoded data removed]"
          },
          "metadata": {}
        }
      ]
    },
    {
      "cell_type": "code",
      "source": [
        "sns.lineplot(data=DF, x=\"Year\", y=\"Gross_domestic_product\")"
      ],
      "metadata": {
        "colab": {
          "base_uri": "https://localhost:8080/",
          "height": 302
        },
        "id": "5otqVs5FXAs_",
        "outputId": "5d5665f1-243e-4319-db5e-dfba7fee9182"
      },
      "execution_count": 48,
      "outputs": [
        {
          "output_type": "execute_result",
          "data": {
            "text/plain": [
              "<matplotlib.axes._subplots.AxesSubplot at 0x7f843dd72490>"
            ]
          },
          "metadata": {},
          "execution_count": 48
        },
        {
          "output_type": "display_data",
          "data": {
            "text/plain": [
              "<Figure size 432x288 with 1 Axes>"
            ],
            "image/png": "[encoded data removed]"
          },
          "metadata": {}
        }
      ]
    },
    {
      "cell_type": "code",
      "source": [
        "DF.columns"
      ],
      "metadata": {
        "colab": {
          "base_uri": "https://localhost:8080/"
        },
        "id": "zETqTesOXCcw",
        "outputId": "a5d24498-4f87-4124-dabd-578f43f1149e"
      },
      "execution_count": 49,
      "outputs": [
        {
          "output_type": "execute_result",
          "data": {
            "text/plain": [
              "Index(['Interestrate_priceindeces', 'Unemployment_rate', 'Median_salesprice',\n",
              "       'Monthly_supply_of_newhouses', 'New_onefamily_houses_sold',\n",
              "       'Gross_domestic_product', 'Year'],\n",
              "      dtype='object')"
            ]
          },
          "metadata": {},
          "execution_count": 49
        }
      ]
    },
    {
      "cell_type": "code",
      "source": [
        "# Using Numpy to create an array X\n",
        "X = DF['Year']\n",
        "# Assign variables to the y axis part of the curve\n",
        "y = DF['Interestrate_priceindeces']\n",
        "z = DF['Unemployment_rate']\n",
        "a = DF['Monthly_supply_of_newhouses']\n",
        "b = DF['New_onefamily_houses_sold']\n",
        "c = DF['Gross_domestic_product']\n",
        "d = DF['Median_salesprice']\n",
        "# Plotting both the curves simultaneously\n",
        "plt.plot(X, y, color='red', label='Interestrate_priceindeces')\n",
        "plt.plot(X, z, color='cyan', label='Unemployment_rate')\n",
        "plt.plot(X, a, color='blue', label='Monthly_supply_of_newhouses')\n",
        "plt.plot(X, b, color='brown', label='New_onefamily_houses_sold')\n",
        "plt.plot(X, c, color='yellow', label='Gross_domestic_product')\n",
        "plt.plot(X, d, color='green', label='Median_salesprice')\n",
        "# Naming the x-axis, y-axis and the whole graph\n",
        "plt.xlabel(\"Year\")\n",
        "plt.ylabel(\"Feature\")\n",
        "plt.title(\"Feature Correlation with House Prices in the US\")\n",
        "# Adding legend, which helps us recognize the curve according to it's color\n",
        "plt.legend()\n",
        "# To load the display window\n",
        "plt.show()"
      ],
      "metadata": {
        "colab": {
          "base_uri": "https://localhost:8080/",
          "height": 301
        },
        "id": "_WLFwAgyXEhN",
        "outputId": "8a03167c-0e51-42c4-86e2-a50ddd78ff48"
      },
      "execution_count": 50,
      "outputs": [
        {
          "output_type": "display_data",
          "data": {
            "text/plain": [
              "<Figure size 432x288 with 1 Axes>"
            ],
            "image/png": "[encoded data removed]"
          },
          "metadata": {}
        }
      ]
    }
  ]
}